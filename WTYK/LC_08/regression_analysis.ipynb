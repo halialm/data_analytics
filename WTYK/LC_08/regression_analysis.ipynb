{
 "cells": [
  {
   "cell_type": "markdown",
   "metadata": {},
   "source": [
    "# Regression analysis"
   ]
  },
  {
   "cell_type": "markdown",
   "metadata": {},
   "source": [
    "## Libraries and settings"
   ]
  },
  {
   "cell_type": "code",
   "execution_count": 1,
   "metadata": {},
   "outputs": [
    {
     "name": "stdout",
     "output_type": "stream",
     "text": [
      "/workspaces/data_analytics/WTYK/LC_08\n"
     ]
    }
   ],
   "source": [
    "# Libraries\n",
    "import os\n",
    "import numpy as np\n",
    "import pandas as pd\n",
    "import scipy.stats as stats\n",
    "import statsmodels.api as sm\n",
    "import matplotlib.pyplot as plt\n",
    "from sklearn import linear_model\n",
    "from sklearn.metrics import r2_score\n",
    "from sklearn.datasets import make_regression\n",
    "from sklearn.ensemble import RandomForestRegressor\n",
    "from sklearn.model_selection import train_test_split\n",
    "\n",
    "# Ignore warnings\n",
    "import warnings\n",
    "warnings.filterwarnings('ignore')\n",
    "\n",
    "# Show current working directory\n",
    "print(os.getcwd())"
   ]
  },
  {
   "cell_type": "markdown",
   "metadata": {},
   "source": [
    "## Import car data"
   ]
  },
  {
   "cell_type": "code",
   "execution_count": 2,
   "metadata": {},
   "outputs": [
    {
     "data": {
      "text/html": [
       "<div>\n",
       "<style scoped>\n",
       "    .dataframe tbody tr th:only-of-type {\n",
       "        vertical-align: middle;\n",
       "    }\n",
       "\n",
       "    .dataframe tbody tr th {\n",
       "        vertical-align: top;\n",
       "    }\n",
       "\n",
       "    .dataframe thead th {\n",
       "        text-align: right;\n",
       "    }\n",
       "</style>\n",
       "<table border=\"1\" class=\"dataframe\">\n",
       "  <thead>\n",
       "    <tr style=\"text-align: right;\">\n",
       "      <th></th>\n",
       "      <th>Offer_Id</th>\n",
       "      <th>Fuel_Type</th>\n",
       "      <th>Transmission</th>\n",
       "      <th>Make</th>\n",
       "      <th>Mileage</th>\n",
       "      <th>HP</th>\n",
       "      <th>Price</th>\n",
       "      <th>Year</th>\n",
       "    </tr>\n",
       "  </thead>\n",
       "  <tbody>\n",
       "    <tr>\n",
       "      <th>0</th>\n",
       "      <td>7324420</td>\n",
       "      <td>Diesel</td>\n",
       "      <td>Automatisiertes Schaltgetriebe</td>\n",
       "      <td>AUDI</td>\n",
       "      <td>75000</td>\n",
       "      <td>245</td>\n",
       "      <td>22500</td>\n",
       "      <td>2014</td>\n",
       "    </tr>\n",
       "    <tr>\n",
       "      <th>1</th>\n",
       "      <td>7512768</td>\n",
       "      <td>Benzin</td>\n",
       "      <td>Automat sequentiell</td>\n",
       "      <td>MERCEDES-BENZ</td>\n",
       "      <td>46655</td>\n",
       "      <td>184</td>\n",
       "      <td>23749</td>\n",
       "      <td>2013</td>\n",
       "    </tr>\n",
       "    <tr>\n",
       "      <th>2</th>\n",
       "      <td>7512034</td>\n",
       "      <td>Benzin</td>\n",
       "      <td>Automat sequentiell</td>\n",
       "      <td>MERCEDES-BENZ</td>\n",
       "      <td>138955</td>\n",
       "      <td>306</td>\n",
       "      <td>18500</td>\n",
       "      <td>2011</td>\n",
       "    </tr>\n",
       "    <tr>\n",
       "      <th>3</th>\n",
       "      <td>7512728</td>\n",
       "      <td>Benzin</td>\n",
       "      <td>Automatisiertes Schaltgetriebe</td>\n",
       "      <td>MERCEDES-BENZ</td>\n",
       "      <td>43000</td>\n",
       "      <td>360</td>\n",
       "      <td>36000</td>\n",
       "      <td>2015</td>\n",
       "    </tr>\n",
       "    <tr>\n",
       "      <th>4</th>\n",
       "      <td>7490242</td>\n",
       "      <td>Benzin</td>\n",
       "      <td>Automatisiertes Schaltgetriebe</td>\n",
       "      <td>AUDI</td>\n",
       "      <td>43300</td>\n",
       "      <td>252</td>\n",
       "      <td>48500</td>\n",
       "      <td>2018</td>\n",
       "    </tr>\n",
       "    <tr>\n",
       "      <th>...</th>\n",
       "      <td>...</td>\n",
       "      <td>...</td>\n",
       "      <td>...</td>\n",
       "      <td>...</td>\n",
       "      <td>...</td>\n",
       "      <td>...</td>\n",
       "      <td>...</td>\n",
       "      <td>...</td>\n",
       "    </tr>\n",
       "    <tr>\n",
       "      <th>3964</th>\n",
       "      <td>6058456</td>\n",
       "      <td>Benzin</td>\n",
       "      <td>Automat</td>\n",
       "      <td>BENTLEY</td>\n",
       "      <td>26200</td>\n",
       "      <td>405</td>\n",
       "      <td>38500</td>\n",
       "      <td>2001</td>\n",
       "    </tr>\n",
       "    <tr>\n",
       "      <th>3966</th>\n",
       "      <td>7137137</td>\n",
       "      <td>Benzin</td>\n",
       "      <td>Automatisiertes Schaltgetriebe</td>\n",
       "      <td>FERRARI</td>\n",
       "      <td>78000</td>\n",
       "      <td>400</td>\n",
       "      <td>58400</td>\n",
       "      <td>2002</td>\n",
       "    </tr>\n",
       "    <tr>\n",
       "      <th>3967</th>\n",
       "      <td>6758841</td>\n",
       "      <td>Benzin</td>\n",
       "      <td>Automatik-Getriebe</td>\n",
       "      <td>MERCEDES-BENZ</td>\n",
       "      <td>315000</td>\n",
       "      <td>232</td>\n",
       "      <td>15900</td>\n",
       "      <td>1987</td>\n",
       "    </tr>\n",
       "    <tr>\n",
       "      <th>3968</th>\n",
       "      <td>7461330</td>\n",
       "      <td>Benzin</td>\n",
       "      <td>Automat sequentiell</td>\n",
       "      <td>MERCEDES-BENZ</td>\n",
       "      <td>85000</td>\n",
       "      <td>525</td>\n",
       "      <td>42000</td>\n",
       "      <td>2007</td>\n",
       "    </tr>\n",
       "    <tr>\n",
       "      <th>3970</th>\n",
       "      <td>7200843</td>\n",
       "      <td>Benzin</td>\n",
       "      <td>Schaltgetriebe manuell</td>\n",
       "      <td>BMW</td>\n",
       "      <td>134000</td>\n",
       "      <td>193</td>\n",
       "      <td>13500</td>\n",
       "      <td>1999</td>\n",
       "    </tr>\n",
       "  </tbody>\n",
       "</table>\n",
       "<p>2845 rows × 8 columns</p>\n",
       "</div>"
      ],
      "text/plain": [
       "      Offer_Id Fuel_Type                    Transmission           Make  \\\n",
       "0      7324420    Diesel  Automatisiertes Schaltgetriebe           AUDI   \n",
       "1      7512768    Benzin             Automat sequentiell  MERCEDES-BENZ   \n",
       "2      7512034    Benzin             Automat sequentiell  MERCEDES-BENZ   \n",
       "3      7512728    Benzin  Automatisiertes Schaltgetriebe  MERCEDES-BENZ   \n",
       "4      7490242    Benzin  Automatisiertes Schaltgetriebe           AUDI   \n",
       "...        ...       ...                             ...            ...   \n",
       "3964   6058456    Benzin                         Automat        BENTLEY   \n",
       "3966   7137137    Benzin  Automatisiertes Schaltgetriebe        FERRARI   \n",
       "3967   6758841    Benzin              Automatik-Getriebe  MERCEDES-BENZ   \n",
       "3968   7461330    Benzin             Automat sequentiell  MERCEDES-BENZ   \n",
       "3970   7200843    Benzin          Schaltgetriebe manuell            BMW   \n",
       "\n",
       "      Mileage   HP  Price  Year  \n",
       "0       75000  245  22500  2014  \n",
       "1       46655  184  23749  2013  \n",
       "2      138955  306  18500  2011  \n",
       "3       43000  360  36000  2015  \n",
       "4       43300  252  48500  2018  \n",
       "...       ...  ...    ...   ...  \n",
       "3964    26200  405  38500  2001  \n",
       "3966    78000  400  58400  2002  \n",
       "3967   315000  232  15900  1987  \n",
       "3968    85000  525  42000  2007  \n",
       "3970   134000  193  13500  1999  \n",
       "\n",
       "[2845 rows x 8 columns]"
      ]
     },
     "execution_count": 2,
     "metadata": {},
     "output_type": "execute_result"
    }
   ],
   "source": [
    "# Columns\n",
    "columns = ['Offer_Id', \n",
    "           'Price_num', \n",
    "           'Mileage_num',\n",
    "           'HP_num', \n",
    "           'Make',\n",
    "           'Fuel_Type', \n",
    "           'Transmission', \n",
    "           'Init_Regist_MY']\n",
    "\n",
    "# Read the data\n",
    "df_orig = pd.read_csv('autoscout24_data_prepared.csv', \n",
    "                      sep=\",\", \n",
    "                      encoding='utf-8',\n",
    "                      usecols=columns)\n",
    "\n",
    "# Rename variable 'web-scraper-order' to 'apmt_id'\n",
    "df_orig = df_orig.rename(columns={'Mileage_num': 'Mileage',\n",
    "                                  'HP_num': 'HP',\n",
    "                                  'Price_num': 'Price'})\n",
    "\n",
    "# Extract year from 'Init_Regist_MY'\n",
    "df_orig['Init_Regist_MY'] = df_orig['Init_Regist_MY'].astype(str)\n",
    "df_orig['Year'] = df_orig['Init_Regist_MY'].str.split('.').str[1].astype(int)\n",
    "df_orig.drop('Init_Regist_MY', axis=1, inplace=True)\n",
    "\n",
    "# Remove missing values\n",
    "df = df_orig.dropna()\n",
    "df.head(5)\n",
    "\n",
    "# Remove duplicates\n",
    "df = df.drop_duplicates()\n",
    "df.head(5)\n",
    "\n",
    "# Remove some extreme prices; keep only fuel type 'Diesel' and 'Benzin'\n",
    "df = df.loc[(df['Price'] >= 10000) & (df['Price'] <= 100000) & (df['Fuel_Type'].isin(['Diesel','Benzin']))]\n",
    "\n",
    "# Show dimensions (rows and columns)\n",
    "print(df.shape)\n",
    "\n",
    "# Show the data\n",
    "df.head()\n"
   ]
  },
  {
   "cell_type": "markdown",
   "metadata": {},
   "source": [
    "## One-hot encoding of categorical variables"
   ]
  },
  {
   "cell_type": "code",
   "execution_count": 4,
   "metadata": {},
   "outputs": [
    {
     "ename": "NameError",
     "evalue": "name 'pd' is not defined",
     "output_type": "error",
     "traceback": [
      "\u001b[0;31m---------------------------------------------------------------------------\u001b[0m",
      "\u001b[0;31mNameError\u001b[0m                                 Traceback (most recent call last)",
      "Cell \u001b[0;32mIn[4], line 2\u001b[0m\n\u001b[1;32m      1\u001b[0m \u001b[38;5;66;03m# Perform one-hot encoding\u001b[39;00m\n\u001b[0;32m----> 2\u001b[0m one_hot_encoded \u001b[38;5;241m=\u001b[39m \u001b[43mpd\u001b[49m\u001b[38;5;241m.\u001b[39mget_dummies(df[\u001b[38;5;124m'\u001b[39m\u001b[38;5;124mFuel_Type\u001b[39m\u001b[38;5;124m'\u001b[39m])\u001b[38;5;241m.\u001b[39mastype(\u001b[38;5;28mint\u001b[39m)\n\u001b[1;32m      4\u001b[0m \u001b[38;5;66;03m# Concatenate the new one-hot encoded columns with the original DataFrame\u001b[39;00m\n\u001b[1;32m      5\u001b[0m df\u001b[38;5;241m=\u001b[39m pd\u001b[38;5;241m.\u001b[39mconcat([df, one_hot_encoded], axis\u001b[38;5;241m=\u001b[39m\u001b[38;5;241m1\u001b[39m)\n",
      "\u001b[0;31mNameError\u001b[0m: name 'pd' is not defined"
     ]
    }
   ],
   "source": [
<<<<<<< HEAD
    "# Perform one-hot encoding on the 'Fuel_Type' column using the get_dummies() function\n",
=======
    "# Perform one-hot encoding\n",
    "one_hot_encoded = pd.get_dummies(df['Fuel_Type']).astype(int)\n",
>>>>>>> 4e1a4ea (...)
    "\n",
    "# Concatenate the new one-hot encoded columns with the original DataFrame\n",
    "df= pd.concat([df, one_hot_encoded], axis=1)\n",
    "df\n"
   ]
  },
  {
   "cell_type": "markdown",
   "metadata": {},
   "source": [
    "## Create train and test samples (train = 80%, test = 20% of the data)"
   ]
  },
  {
   "cell_type": "code",
   "execution_count": 4,
   "metadata": {},
   "outputs": [],
   "source": [
    "# Create train and test samples\n",
    "\n",
    "\n",
    "# Show X_train\n",
    "\n",
    "\n",
    "# Show y_train\n"
   ]
  },
  {
   "cell_type": "markdown",
   "metadata": {},
   "source": [
    "## Multiple linear regression"
   ]
  },
  {
   "cell_type": "code",
   "execution_count": 5,
   "metadata": {},
   "outputs": [],
   "source": [
    "# Add constant to the model\n",
    "\n",
    "\n",
    "# Create the multiple regression model using the Ordinary Least Squares (OLS) method\n",
    "\n",
    "\n",
    "# Print full model output\n"
   ]
  },
  {
   "cell_type": "markdown",
   "metadata": {},
   "source": [
    "### Plot histogram of multiple linear regression residuals"
   ]
  },
  {
   "cell_type": "code",
   "execution_count": 6,
   "metadata": {},
   "outputs": [],
   "source": [
    "# Plot histogram of residuals\n",
    "\n",
    "\n",
    "# Set axes labels and plot title\n",
    "\n",
    "\n",
    "# Show the plot\n"
   ]
  },
  {
   "cell_type": "markdown",
   "metadata": {},
   "source": [
    "## Random forest regression"
   ]
  },
  {
   "cell_type": "markdown",
   "metadata": {},
   "source": [
    "### Fit Random forest regression model"
   ]
  },
  {
   "cell_type": "code",
   "execution_count": 7,
   "metadata": {},
   "outputs": [],
   "source": [
    "# Initialize the random forest regressor\n",
    "\n",
    "\n",
    "\n",
    "# Fit the model\n",
    "\n",
    "\n",
    "\n",
    "# Calculate coefficient of determination (R-squared), round to 4 decimal places with f-string formatting\n"
   ]
  },
  {
   "cell_type": "markdown",
   "metadata": {},
   "source": [
    "### Plot histogram of random forest regression residuals"
   ]
  },
  {
   "cell_type": "code",
   "execution_count": 8,
   "metadata": {},
   "outputs": [],
   "source": [
    "# Calculate residuals\n",
    "\n",
    "\n",
    "# Calculate residuals by subtracting actual target values from predicted values\n",
    "\n",
    "\n",
    "# Plot histogram of residuals\n",
    "\n"
   ]
  },
  {
   "cell_type": "markdown",
   "metadata": {},
   "source": [
    "### Show feature importance"
   ]
  },
  {
   "cell_type": "code",
   "execution_count": 9,
   "metadata": {},
   "outputs": [],
   "source": [
    "# Get column names of X_train\n",
    "\n",
    "\n",
    "# Derive feature importance from random forest\n",
    "\n",
    "\n",
    "# Print col-names and importances-values\n",
    "\n",
    "\n",
    "# Barplot with feature importance\n"
   ]
  },
  {
   "cell_type": "markdown",
   "metadata": {},
   "source": [
    "### Jupyter notebook --footer info-- (please always provide this at the end of each submitted notebook)"
   ]
  },
  {
   "cell_type": "code",
   "execution_count": 10,
   "metadata": {},
   "outputs": [
    {
     "name": "stdout",
     "output_type": "stream",
     "text": [
      "-----------------------------------\n",
      "POSIX\n",
      "Linux | 6.5.0-1025-azure\n",
      "Datetime: 2024-11-04 15:06:14\n",
      "Python Version: 3.11.10\n",
      "-----------------------------------\n"
     ]
    }
   ],
   "source": [
    "import os\n",
    "import platform\n",
    "import socket\n",
    "from platform import python_version\n",
    "from datetime import datetime\n",
    "\n",
    "print('-----------------------------------')\n",
    "print(os.name.upper())\n",
    "print(platform.system(), '|', platform.release())\n",
    "print('Datetime:', datetime.now().strftime(\"%Y-%m-%d %H:%M:%S\"))\n",
    "print('Python Version:', python_version())\n",
    "print('-----------------------------------')"
   ]
  }
 ],
 "metadata": {
  "kernelspec": {
   "display_name": "Python 3",
   "language": "python",
   "name": "python3"
  },
  "language_info": {
   "codemirror_mode": {
    "name": "ipython",
    "version": 3
   },
   "file_extension": ".py",
   "mimetype": "text/x-python",
   "name": "python",
   "nbconvert_exporter": "python",
   "pygments_lexer": "ipython3",
   "version": "3.11.10"
  }
 },
 "nbformat": 4,
 "nbformat_minor": 2
}
